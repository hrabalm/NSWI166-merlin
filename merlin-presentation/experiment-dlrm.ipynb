{
 "cells": [
  {
   "cell_type": "code",
   "execution_count": 1,
   "id": "eb412c60-bab1-4932-a58e-56a35d9a3cf8",
   "metadata": {},
   "outputs": [
    {
     "name": "stdout",
     "output_type": "stream",
     "text": [
      "Requirement already satisfied: matplotlib in /usr/local/lib/python3.8/dist-packages (3.6.3)\n",
      "Requirement already satisfied: numpy>=1.19 in /usr/local/lib/python3.8/dist-packages (from matplotlib) (1.22.4)\n",
      "Requirement already satisfied: kiwisolver>=1.0.1 in /usr/local/lib/python3.8/dist-packages (from matplotlib) (1.4.4)\n",
      "Requirement already satisfied: packaging>=20.0 in /usr/local/lib/python3.8/dist-packages (from matplotlib) (21.3)\n",
      "Requirement already satisfied: cycler>=0.10 in /usr/local/lib/python3.8/dist-packages (from matplotlib) (0.11.0)\n",
      "Requirement already satisfied: pyparsing>=2.2.1 in /usr/local/lib/python3.8/dist-packages (from matplotlib) (3.0.9)\n",
      "Requirement already satisfied: contourpy>=1.0.1 in /usr/local/lib/python3.8/dist-packages (from matplotlib) (1.0.7)\n",
      "Requirement already satisfied: fonttools>=4.22.0 in /usr/local/lib/python3.8/dist-packages (from matplotlib) (4.38.0)\n",
      "Requirement already satisfied: python-dateutil>=2.7 in /usr/local/lib/python3.8/dist-packages (from matplotlib) (2.8.2)\n",
      "Requirement already satisfied: pillow>=6.2.0 in /usr/local/lib/python3.8/dist-packages (from matplotlib) (9.4.0)\n",
      "Requirement already satisfied: six>=1.5 in /usr/lib/python3/dist-packages (from python-dateutil>=2.7->matplotlib) (1.14.0)\n"
     ]
    }
   ],
   "source": [
    "!pip install matplotlib\n",
    "# import cudf; cudf.set_allocator(\"managed\")"
   ]
  },
  {
   "cell_type": "code",
   "execution_count": 2,
   "id": "bed85a4c-927b-40ad-ba30-9327b4a5dac4",
   "metadata": {},
   "outputs": [],
   "source": [
    "from prepare_movielens import prepare_datasets\n",
    "prepare_datasets()"
   ]
  },
  {
   "cell_type": "code",
   "execution_count": 3,
   "id": "dadd3ccc-be06-426b-b40b-02a7c5ab3336",
   "metadata": {},
   "outputs": [
    {
     "name": "stderr",
     "output_type": "stream",
     "text": [
      "/usr/lib/python3/dist-packages/requests/__init__.py:89: RequestsDependencyWarning: urllib3 (1.26.12) or chardet (3.0.4) doesn't match a supported version!\n",
      "  warnings.warn(\"urllib3 ({}) or chardet ({}) doesn't match a supported \"\n",
      "/usr/local/lib/python3.8/dist-packages/tqdm/auto.py:22: TqdmWarning: IProgress not found. Please update jupyter and ipywidgets. See https://ipywidgets.readthedocs.io/en/stable/user_install.html\n",
      "  from .autonotebook import tqdm as notebook_tqdm\n",
      "2023-01-23 04:17:04.169223: I tensorflow/stream_executor/cuda/cuda_gpu_executor.cc:991] successful NUMA node read from SysFS had negative value (-1), but there must be at least one NUMA node, so returning NUMA node zero\n",
      "2023-01-23 04:17:04.169643: I tensorflow/stream_executor/cuda/cuda_gpu_executor.cc:991] successful NUMA node read from SysFS had negative value (-1), but there must be at least one NUMA node, so returning NUMA node zero\n",
      "2023-01-23 04:17:04.169820: I tensorflow/stream_executor/cuda/cuda_gpu_executor.cc:991] successful NUMA node read from SysFS had negative value (-1), but there must be at least one NUMA node, so returning NUMA node zero\n",
      "2023-01-23 04:17:04.661682: I tensorflow/core/platform/cpu_feature_guard.cc:194] This TensorFlow binary is optimized with oneAPI Deep Neural Network Library (oneDNN) to use the following CPU instructions in performance-critical operations:  SSE3 SSE4.1 SSE4.2 AVX\n",
      "To enable them in other operations, rebuild TensorFlow with the appropriate compiler flags.\n",
      "2023-01-23 04:17:04.663201: I tensorflow/stream_executor/cuda/cuda_gpu_executor.cc:991] successful NUMA node read from SysFS had negative value (-1), but there must be at least one NUMA node, so returning NUMA node zero\n",
      "2023-01-23 04:17:04.663737: I tensorflow/stream_executor/cuda/cuda_gpu_executor.cc:991] successful NUMA node read from SysFS had negative value (-1), but there must be at least one NUMA node, so returning NUMA node zero\n",
      "2023-01-23 04:17:04.664008: I tensorflow/stream_executor/cuda/cuda_gpu_executor.cc:991] successful NUMA node read from SysFS had negative value (-1), but there must be at least one NUMA node, so returning NUMA node zero\n",
      "2023-01-23 04:17:07.933646: I tensorflow/stream_executor/cuda/cuda_gpu_executor.cc:991] successful NUMA node read from SysFS had negative value (-1), but there must be at least one NUMA node, so returning NUMA node zero\n",
      "2023-01-23 04:17:07.933887: I tensorflow/stream_executor/cuda/cuda_gpu_executor.cc:991] successful NUMA node read from SysFS had negative value (-1), but there must be at least one NUMA node, so returning NUMA node zero\n",
      "2023-01-23 04:17:07.934076: I tensorflow/stream_executor/cuda/cuda_gpu_executor.cc:991] successful NUMA node read from SysFS had negative value (-1), but there must be at least one NUMA node, so returning NUMA node zero\n",
      "2023-01-23 04:17:07.934202: I tensorflow/core/common_runtime/gpu/gpu_device.cc:1532] Created device /job:localhost/replica:0/task:0/device:GPU:0 with 3072 MB memory:  -> device: 0, name: NVIDIA GeForce GTX 1660 SUPER, pci bus id: 0000:07:00.0, compute capability: 7.5\n"
     ]
    }
   ],
   "source": [
    "from models_merlin import load_and_preprocess_movielens, train_dlrm_model"
   ]
  },
  {
   "cell_type": "code",
   "execution_count": 4,
   "id": "41c01786-e962-4eb8-8636-3914d556fbcd",
   "metadata": {},
   "outputs": [
    {
     "name": "stdout",
     "output_type": "stream",
     "text": [
      "18311/18311 [==============================] - 241s 13ms/step - loss: 0.9515 - root_mean_squared_error: 0.9755 - regularization_loss: 0.0000e+00 - loss_batch: 0.9516 - val_loss: 1.3110 - val_root_mean_squared_error: 1.1450 - val_regularization_loss: 0.0000e+00 - val_loss_batch: 1.7329\n"
     ]
    }
   ],
   "source": [
    "train_transformed, test_transformed = load_and_preprocess_movielens()\n",
    "\n",
    "model = train_dlrm_model(train_transformed, test_transformed)"
   ]
  },
  {
   "cell_type": "code",
   "execution_count": 5,
   "id": "cb1dd09f-4758-4a38-a87e-60970b917389",
   "metadata": {},
   "outputs": [
    {
     "name": "stdout",
     "output_type": "stream",
     "text": [
      "6104/6104 [==============================] - 28s 5ms/step - loss: 1.3110 - root_mean_squared_error: 1.1450 - regularization_loss: 0.0000e+00 - loss_batch: 1.3111\n",
      "metrics: {'loss': 1.3109965324401855, 'root_mean_squared_error': 1.1449875831604004, 'regularization_loss': 0.0, 'loss_batch': 1.7329140901565552}\n",
      "min[2.4615033], max=[3.6267855]\n"
     ]
    }
   ],
   "source": [
    "metrics = model.evaluate(test_transformed, batch_size=1024, return_dict=True)\n",
    "print(\"metrics:\", metrics)\n",
    "preds = model.predict(test_transformed, batch_size=1024)\n",
    "print(f\"min{min(preds)}, max={max(preds)}\")"
   ]
  },
  {
   "cell_type": "code",
   "execution_count": 6,
   "id": "b6c6f3b6-9786-4654-b1dd-170be6b2979b",
   "metadata": {},
   "outputs": [
    {
     "data": {
      "text/plain": [
       "array([[3.0769591],\n",
       "       [3.0406625],\n",
       "       [3.0669935],\n",
       "       ...,\n",
       "       [3.1567223],\n",
       "       [3.1374838],\n",
       "       [3.1482453]], dtype=float32)"
      ]
     },
     "execution_count": 6,
     "metadata": {},
     "output_type": "execute_result"
    }
   ],
   "source": [
    "preds"
   ]
  },
  {
   "cell_type": "code",
   "execution_count": 7,
   "id": "0ebec756-6d5a-4b57-b7cc-e1a9547fda9b",
   "metadata": {},
   "outputs": [
    {
     "data": {
      "text/plain": [
       "6250023"
      ]
     },
     "execution_count": 7,
     "metadata": {},
     "output_type": "execute_result"
    }
   ],
   "source": [
    "len(preds)"
   ]
  },
  {
   "cell_type": "code",
   "execution_count": 9,
   "id": "2f58ee35-c3b5-43ff-8819-90c96b061746",
   "metadata": {},
   "outputs": [
    {
     "data": {
      "text/plain": [
       "numpy.ndarray"
      ]
     },
     "execution_count": 9,
     "metadata": {},
     "output_type": "execute_result"
    }
   ],
   "source": [
    "type(preds)"
   ]
  },
  {
   "cell_type": "code",
   "execution_count": 11,
   "id": "8f145636-6522-4f01-a918-7768e046e12f",
   "metadata": {},
   "outputs": [],
   "source": [
    "import pandas as pd\n",
    "from models_xgbr import load_and_preprocess_movielens_df\n",
    "_, test = load_and_preprocess_movielens_df()"
   ]
  },
  {
   "cell_type": "code",
   "execution_count": 12,
   "id": "7dc71245-313c-496d-981b-d3370b42c06f",
   "metadata": {},
   "outputs": [],
   "source": [
    "test[\"preds\"] = preds\n",
    "test.to_csv(\"merlin_dlrm_preds.csv\")"
   ]
  },
  {
   "cell_type": "code",
   "execution_count": null,
   "id": "fb20bbae-483a-4b50-a6d1-bf3445b9ec76",
   "metadata": {},
   "outputs": [],
   "source": []
  }
 ],
 "metadata": {
  "kernelspec": {
   "display_name": "Python 3 (ipykernel)",
   "language": "python",
   "name": "python3"
  },
  "language_info": {
   "codemirror_mode": {
    "name": "ipython",
    "version": 3
   },
   "file_extension": ".py",
   "mimetype": "text/x-python",
   "name": "python",
   "nbconvert_exporter": "python",
   "pygments_lexer": "ipython3",
   "version": "3.8.10"
  }
 },
 "nbformat": 4,
 "nbformat_minor": 5
}
