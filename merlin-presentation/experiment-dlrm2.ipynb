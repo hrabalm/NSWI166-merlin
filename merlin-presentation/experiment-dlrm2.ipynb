{
 "cells": [
  {
   "cell_type": "code",
   "execution_count": 1,
   "id": "eb412c60-bab1-4932-a58e-56a35d9a3cf8",
   "metadata": {},
   "outputs": [
    {
     "name": "stdout",
     "output_type": "stream",
     "text": [
      "Requirement already satisfied: matplotlib in /usr/local/lib/python3.8/dist-packages (3.6.3)\n",
      "Requirement already satisfied: pillow>=6.2.0 in /usr/local/lib/python3.8/dist-packages (from matplotlib) (9.4.0)\n",
      "Requirement already satisfied: cycler>=0.10 in /usr/local/lib/python3.8/dist-packages (from matplotlib) (0.11.0)\n",
      "Requirement already satisfied: packaging>=20.0 in /usr/local/lib/python3.8/dist-packages (from matplotlib) (21.3)\n",
      "Requirement already satisfied: contourpy>=1.0.1 in /usr/local/lib/python3.8/dist-packages (from matplotlib) (1.0.7)\n",
      "Requirement already satisfied: python-dateutil>=2.7 in /usr/local/lib/python3.8/dist-packages (from matplotlib) (2.8.2)\n",
      "Requirement already satisfied: fonttools>=4.22.0 in /usr/local/lib/python3.8/dist-packages (from matplotlib) (4.38.0)\n",
      "Requirement already satisfied: pyparsing>=2.2.1 in /usr/local/lib/python3.8/dist-packages (from matplotlib) (3.0.9)\n",
      "Requirement already satisfied: kiwisolver>=1.0.1 in /usr/local/lib/python3.8/dist-packages (from matplotlib) (1.4.4)\n",
      "Requirement already satisfied: numpy>=1.19 in /usr/local/lib/python3.8/dist-packages (from matplotlib) (1.22.4)\n",
      "Requirement already satisfied: six>=1.5 in /usr/lib/python3/dist-packages (from python-dateutil>=2.7->matplotlib) (1.14.0)\n"
     ]
    }
   ],
   "source": [
    "!pip install matplotlib\n",
    "# import cudf; cudf.set_allocator(\"managed\")"
   ]
  },
  {
   "cell_type": "code",
   "execution_count": 2,
   "id": "bed85a4c-927b-40ad-ba30-9327b4a5dac4",
   "metadata": {},
   "outputs": [],
   "source": [
    "from prepare_movielens import prepare_datasets\n",
    "prepare_datasets()"
   ]
  },
  {
   "cell_type": "code",
   "execution_count": 3,
   "id": "dadd3ccc-be06-426b-b40b-02a7c5ab3336",
   "metadata": {},
   "outputs": [
    {
     "name": "stderr",
     "output_type": "stream",
     "text": [
      "/usr/lib/python3/dist-packages/requests/__init__.py:89: RequestsDependencyWarning: urllib3 (1.26.12) or chardet (3.0.4) doesn't match a supported version!\n",
      "  warnings.warn(\"urllib3 ({}) or chardet ({}) doesn't match a supported \"\n",
      "/usr/local/lib/python3.8/dist-packages/tqdm/auto.py:22: TqdmWarning: IProgress not found. Please update jupyter and ipywidgets. See https://ipywidgets.readthedocs.io/en/stable/user_install.html\n",
      "  from .autonotebook import tqdm as notebook_tqdm\n",
      "2023-01-23 04:46:17.728209: I tensorflow/stream_executor/cuda/cuda_gpu_executor.cc:991] successful NUMA node read from SysFS had negative value (-1), but there must be at least one NUMA node, so returning NUMA node zero\n",
      "2023-01-23 04:46:17.728628: I tensorflow/stream_executor/cuda/cuda_gpu_executor.cc:991] successful NUMA node read from SysFS had negative value (-1), but there must be at least one NUMA node, so returning NUMA node zero\n",
      "2023-01-23 04:46:17.728805: I tensorflow/stream_executor/cuda/cuda_gpu_executor.cc:991] successful NUMA node read from SysFS had negative value (-1), but there must be at least one NUMA node, so returning NUMA node zero\n",
      "2023-01-23 04:46:18.013408: I tensorflow/core/platform/cpu_feature_guard.cc:194] This TensorFlow binary is optimized with oneAPI Deep Neural Network Library (oneDNN) to use the following CPU instructions in performance-critical operations:  SSE3 SSE4.1 SSE4.2 AVX\n",
      "To enable them in other operations, rebuild TensorFlow with the appropriate compiler flags.\n",
      "2023-01-23 04:46:18.014560: I tensorflow/stream_executor/cuda/cuda_gpu_executor.cc:991] successful NUMA node read from SysFS had negative value (-1), but there must be at least one NUMA node, so returning NUMA node zero\n",
      "2023-01-23 04:46:18.014873: I tensorflow/stream_executor/cuda/cuda_gpu_executor.cc:991] successful NUMA node read from SysFS had negative value (-1), but there must be at least one NUMA node, so returning NUMA node zero\n",
      "2023-01-23 04:46:18.015129: I tensorflow/stream_executor/cuda/cuda_gpu_executor.cc:991] successful NUMA node read from SysFS had negative value (-1), but there must be at least one NUMA node, so returning NUMA node zero\n",
      "2023-01-23 04:46:19.056186: I tensorflow/stream_executor/cuda/cuda_gpu_executor.cc:991] successful NUMA node read from SysFS had negative value (-1), but there must be at least one NUMA node, so returning NUMA node zero\n",
      "2023-01-23 04:46:19.056457: I tensorflow/stream_executor/cuda/cuda_gpu_executor.cc:991] successful NUMA node read from SysFS had negative value (-1), but there must be at least one NUMA node, so returning NUMA node zero\n",
      "2023-01-23 04:46:19.056686: I tensorflow/stream_executor/cuda/cuda_gpu_executor.cc:991] successful NUMA node read from SysFS had negative value (-1), but there must be at least one NUMA node, so returning NUMA node zero\n",
      "2023-01-23 04:46:19.056835: I tensorflow/core/common_runtime/gpu/gpu_device.cc:1532] Created device /job:localhost/replica:0/task:0/device:GPU:0 with 3072 MB memory:  -> device: 0, name: NVIDIA GeForce GTX 1660 SUPER, pci bus id: 0000:07:00.0, compute capability: 7.5\n"
     ]
    }
   ],
   "source": [
    "from models_merlin import load_and_preprocess_movielens, train_dlrm_model"
   ]
  },
  {
   "cell_type": "code",
   "execution_count": 4,
   "id": "41c01786-e962-4eb8-8636-3914d556fbcd",
   "metadata": {},
   "outputs": [
    {
     "name": "stdout",
     "output_type": "stream",
     "text": [
      "Epoch 1/5\n",
      "18311/18311 [==============================] - 241s 13ms/step - loss: 0.9485 - root_mean_squared_error: 0.9739 - regularization_loss: 0.0000e+00 - loss_batch: 0.9486 - val_loss: 1.0943 - val_root_mean_squared_error: 1.0461 - val_regularization_loss: 0.0000e+00 - val_loss_batch: 1.4476\n",
      "Epoch 2/5\n",
      "18311/18311 [==============================] - 236s 13ms/step - loss: 0.9227 - root_mean_squared_error: 0.9606 - regularization_loss: 0.0000e+00 - loss_batch: 0.9228 - val_loss: 1.1379 - val_root_mean_squared_error: 1.0667 - val_regularization_loss: 0.0000e+00 - val_loss_batch: 1.5018\n",
      "Epoch 3/5\n",
      "18311/18311 [==============================] - 238s 13ms/step - loss: 0.9204 - root_mean_squared_error: 0.9594 - regularization_loss: 0.0000e+00 - loss_batch: 0.9204 - val_loss: 1.1422 - val_root_mean_squared_error: 1.0687 - val_regularization_loss: 0.0000e+00 - val_loss_batch: 1.5048\n",
      "Epoch 4/5\n",
      "18311/18311 [==============================] - 241s 13ms/step - loss: 0.9185 - root_mean_squared_error: 0.9584 - regularization_loss: 0.0000e+00 - loss_batch: 0.9186 - val_loss: 1.1747 - val_root_mean_squared_error: 1.0838 - val_regularization_loss: 0.0000e+00 - val_loss_batch: 1.5464\n",
      "Epoch 5/5\n",
      "18311/18311 [==============================] - 240s 13ms/step - loss: 0.9170 - root_mean_squared_error: 0.9576 - regularization_loss: 0.0000e+00 - loss_batch: 0.9171 - val_loss: 1.1954 - val_root_mean_squared_error: 1.0934 - val_regularization_loss: 0.0000e+00 - val_loss_batch: 1.5737\n"
     ]
    }
   ],
   "source": [
    "train_transformed, test_transformed = load_and_preprocess_movielens()\n",
    "\n",
    "model = train_dlrm_model(train_transformed, test_transformed, epochs=5)"
   ]
  },
  {
   "cell_type": "code",
   "execution_count": 5,
   "id": "cb1dd09f-4758-4a38-a87e-60970b917389",
   "metadata": {},
   "outputs": [
    {
     "name": "stdout",
     "output_type": "stream",
     "text": [
      "6104/6104 [==============================] - 28s 5ms/step - loss: 1.1954 - root_mean_squared_error: 1.0934 - regularization_loss: 0.0000e+00 - loss_batch: 1.1955\n",
      "metrics: {'loss': 1.1954436302185059, 'root_mean_squared_error': 1.0933634042739868, 'regularization_loss': 0.0, 'loss_batch': 1.57365083694458}\n",
      "min[1.3346415], max=[3.9703362]\n"
     ]
    }
   ],
   "source": [
    "metrics = model.evaluate(test_transformed, batch_size=1024, return_dict=True)\n",
    "print(\"metrics:\", metrics)\n",
    "preds = model.predict(test_transformed, batch_size=1024)\n",
    "print(f\"min{min(preds)}, max={max(preds)}\")"
   ]
  },
  {
   "cell_type": "code",
   "execution_count": 6,
   "id": "b6c6f3b6-9786-4654-b1dd-170be6b2979b",
   "metadata": {},
   "outputs": [
    {
     "data": {
      "text/plain": [
       "array([[3.5831513],\n",
       "       [3.9327967],\n",
       "       [3.8083837],\n",
       "       ...,\n",
       "       [3.1484551],\n",
       "       [3.3917806],\n",
       "       [3.24614  ]], dtype=float32)"
      ]
     },
     "execution_count": 6,
     "metadata": {},
     "output_type": "execute_result"
    }
   ],
   "source": [
    "preds"
   ]
  },
  {
   "cell_type": "code",
   "execution_count": 7,
   "id": "0ebec756-6d5a-4b57-b7cc-e1a9547fda9b",
   "metadata": {},
   "outputs": [
    {
     "data": {
      "text/plain": [
       "6250023"
      ]
     },
     "execution_count": 7,
     "metadata": {},
     "output_type": "execute_result"
    }
   ],
   "source": [
    "len(preds)"
   ]
  },
  {
   "cell_type": "code",
   "execution_count": 8,
   "id": "2f58ee35-c3b5-43ff-8819-90c96b061746",
   "metadata": {},
   "outputs": [
    {
     "data": {
      "text/plain": [
       "numpy.ndarray"
      ]
     },
     "execution_count": 8,
     "metadata": {},
     "output_type": "execute_result"
    }
   ],
   "source": [
    "type(preds)"
   ]
  },
  {
   "cell_type": "code",
   "execution_count": 9,
   "id": "8f145636-6522-4f01-a918-7768e046e12f",
   "metadata": {},
   "outputs": [],
   "source": [
    "import pandas as pd\n",
    "from models_xgbr import load_and_preprocess_movielens_df\n",
    "_, test = load_and_preprocess_movielens_df()"
   ]
  },
  {
   "cell_type": "code",
   "execution_count": 10,
   "id": "7dc71245-313c-496d-981b-d3370b42c06f",
   "metadata": {},
   "outputs": [],
   "source": [
    "test[\"preds\"] = preds\n",
    "test.to_csv(\"merlin_dlrm2_preds.csv\")"
   ]
  }
 ],
 "metadata": {
  "kernelspec": {
   "display_name": "Python 3 (ipykernel)",
   "language": "python",
   "name": "python3"
  },
  "language_info": {
   "codemirror_mode": {
    "name": "ipython",
    "version": 3
   },
   "file_extension": ".py",
   "mimetype": "text/x-python",
   "name": "python",
   "nbconvert_exporter": "python",
   "pygments_lexer": "ipython3",
   "version": "3.8.10"
  }
 },
 "nbformat": 4,
 "nbformat_minor": 5
}
