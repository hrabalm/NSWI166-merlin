{
 "cells": [
  {
   "cell_type": "code",
   "execution_count": 1,
   "id": "eb412c60-bab1-4932-a58e-56a35d9a3cf8",
   "metadata": {},
   "outputs": [
    {
     "name": "stdout",
     "output_type": "stream",
     "text": [
      "Collecting matplotlib\n",
      "  Downloading matplotlib-3.6.3-cp38-cp38-manylinux_2_12_x86_64.manylinux2010_x86_64.whl (9.4 MB)\n",
      "\u001b[K     |████████████████████████████████| 9.4 MB 7.0 MB/s eta 0:00:01     |███████████████████████████▊    | 8.1 MB 7.0 MB/s eta 0:00:01\n",
      "\u001b[?25hRequirement already satisfied: pyparsing>=2.2.1 in /usr/local/lib/python3.8/dist-packages (from matplotlib) (3.0.9)\n",
      "Collecting contourpy>=1.0.1\n",
      "  Downloading contourpy-1.0.7-cp38-cp38-manylinux_2_17_x86_64.manylinux2014_x86_64.whl (300 kB)\n",
      "\u001b[K     |████████████████████████████████| 300 kB 6.6 MB/s eta 0:00:01\n",
      "\u001b[?25hCollecting pillow>=6.2.0\n",
      "  Downloading Pillow-9.4.0-cp38-cp38-manylinux_2_17_x86_64.manylinux2014_x86_64.whl (3.3 MB)\n",
      "\u001b[K     |████████████████████████████████| 3.3 MB 7.1 MB/s eta 0:00:01\n",
      "\u001b[?25hCollecting cycler>=0.10\n",
      "  Downloading cycler-0.11.0-py3-none-any.whl (6.4 kB)\n",
      "Requirement already satisfied: packaging>=20.0 in /usr/local/lib/python3.8/dist-packages (from matplotlib) (21.3)\n",
      "Collecting fonttools>=4.22.0\n",
      "  Downloading fonttools-4.38.0-py3-none-any.whl (965 kB)\n",
      "\u001b[K     |████████████████████████████████| 965 kB 10.7 MB/s eta 0:00:01     |█████████████                   | 389 kB 10.7 MB/s eta 0:00:01\n",
      "\u001b[?25hCollecting kiwisolver>=1.0.1\n",
      "  Downloading kiwisolver-1.4.4-cp38-cp38-manylinux_2_5_x86_64.manylinux1_x86_64.whl (1.2 MB)\n",
      "\u001b[K     |████████████████████████████████| 1.2 MB 11.6 MB/s eta 0:00:01\n",
      "\u001b[?25hRequirement already satisfied: python-dateutil>=2.7 in /usr/local/lib/python3.8/dist-packages (from matplotlib) (2.8.2)\n",
      "Requirement already satisfied: numpy>=1.19 in /usr/local/lib/python3.8/dist-packages (from matplotlib) (1.22.4)\n",
      "Requirement already satisfied: six>=1.5 in /usr/lib/python3/dist-packages (from python-dateutil>=2.7->matplotlib) (1.14.0)\n",
      "Installing collected packages: contourpy, pillow, cycler, fonttools, kiwisolver, matplotlib\n",
      "Successfully installed contourpy-1.0.7 cycler-0.11.0 fonttools-4.38.0 kiwisolver-1.4.4 matplotlib-3.6.3 pillow-9.4.0\n"
     ]
    }
   ],
   "source": [
    "!pip install matplotlib"
   ]
  },
  {
   "cell_type": "code",
   "execution_count": 2,
   "id": "bed85a4c-927b-40ad-ba30-9327b4a5dac4",
   "metadata": {},
   "outputs": [],
   "source": [
    "from prepare_movielens import prepare_datasets\n",
    "prepare_datasets()"
   ]
  },
  {
   "cell_type": "code",
   "execution_count": 3,
   "id": "dadd3ccc-be06-426b-b40b-02a7c5ab3336",
   "metadata": {},
   "outputs": [],
   "source": [
    "from models_xgbr import load_and_preprocess_movielens_df, train_xgboost_model"
   ]
  },
  {
   "cell_type": "code",
   "execution_count": 4,
   "id": "690889b3-e974-4aa5-bec3-49ac51146dbf",
   "metadata": {},
   "outputs": [
    {
     "name": "stdout",
     "output_type": "stream",
     "text": [
      "          userId  movieId  rating                             genres\n",
      "0              1      296     5.0   [Comedy, Crime, Drama, Thriller]\n",
      "264            3      296     5.0   [Comedy, Crime, Drama, Thriller]\n",
      "912            4      296     4.0   [Comedy, Crime, Drama, Thriller]\n",
      "1184           5      296     4.0   [Comedy, Crime, Drama, Thriller]\n",
      "1290           7      296     4.0   [Comedy, Crime, Drama, Thriller]\n",
      "...          ...      ...     ...                                ...\n",
      "18738851  121477   198159     3.0                      [Documentary]\n",
      "18743100  121499   133735     0.5                      [Documentary]\n",
      "18743104  121499   133745     0.5  [Action, Children, Comedy, Drama]\n",
      "18748497  121536   173919     4.0                        [Animation]\n",
      "18749549  121554   199878     4.0                [Animation, Horror]\n",
      "\n",
      "[18750072 rows x 4 columns]\n"
     ]
    },
    {
     "name": "stderr",
     "output_type": "stream",
     "text": [
      "/usr/local/lib/python3.8/dist-packages/tqdm/auto.py:22: TqdmWarning: IProgress not found. Please update jupyter and ipywidgets. See https://ipywidgets.readthedocs.io/en/stable/user_install.html\n",
      "  from .autonotebook import tqdm as notebook_tqdm\n"
     ]
    },
    {
     "name": "stdout",
     "output_type": "stream",
     "text": [
      "{'memory': None, 'steps': [('encode_genres', ColumnTransformer(remainder='passthrough',\n",
      "                  transformers=[('genre_tr',\n",
      "                                 CountVectorizer(analyzer=<class 'set'>),\n",
      "                                 'genres')],\n",
      "                  verbose_feature_names_out=False)), ('xgb', XGBRegressor(base_score=0.5, booster='gbtree', callbacks=None,\n",
      "             colsample_bylevel=1, colsample_bynode=1, colsample_bytree=1,\n",
      "             early_stopping_rounds=None, enable_categorical=False,\n",
      "             eval_metric=None, gamma=0, gpu_id=-1, grow_policy='depthwise',\n",
      "             importance_type=None, interaction_constraints='',\n",
      "             learning_rate=0.300000012, max_bin=256, max_cat_to_onehot=4,\n",
      "             max_delta_step=0, max_depth=6, max_leaves=0, min_child_weight=1,\n",
      "             missing=nan, monotone_constraints='()', n_estimators=100, n_jobs=0,\n",
      "             num_parallel_tree=1, predictor='auto', random_state=0, reg_alpha=0,\n",
      "             reg_lambda=1, ...))], 'verbose': False, 'encode_genres': ColumnTransformer(remainder='passthrough',\n",
      "                  transformers=[('genre_tr',\n",
      "                                 CountVectorizer(analyzer=<class 'set'>),\n",
      "                                 'genres')],\n",
      "                  verbose_feature_names_out=False), 'xgb': XGBRegressor(base_score=0.5, booster='gbtree', callbacks=None,\n",
      "             colsample_bylevel=1, colsample_bynode=1, colsample_bytree=1,\n",
      "             early_stopping_rounds=None, enable_categorical=False,\n",
      "             eval_metric=None, gamma=0, gpu_id=-1, grow_policy='depthwise',\n",
      "             importance_type=None, interaction_constraints='',\n",
      "             learning_rate=0.300000012, max_bin=256, max_cat_to_onehot=4,\n",
      "             max_delta_step=0, max_depth=6, max_leaves=0, min_child_weight=1,\n",
      "             missing=nan, monotone_constraints='()', n_estimators=100, n_jobs=0,\n",
      "             num_parallel_tree=1, predictor='auto', random_state=0, reg_alpha=0,\n",
      "             reg_lambda=1, ...), 'encode_genres__n_jobs': None, 'encode_genres__remainder': 'passthrough', 'encode_genres__sparse_threshold': 0.3, 'encode_genres__transformer_weights': None, 'encode_genres__transformers': [('genre_tr', CountVectorizer(analyzer=<class 'set'>), 'genres')], 'encode_genres__verbose': False, 'encode_genres__verbose_feature_names_out': False, 'encode_genres__genre_tr': CountVectorizer(analyzer=<class 'set'>), 'encode_genres__genre_tr__analyzer': <class 'set'>, 'encode_genres__genre_tr__binary': False, 'encode_genres__genre_tr__decode_error': 'strict', 'encode_genres__genre_tr__dtype': <class 'numpy.int64'>, 'encode_genres__genre_tr__encoding': 'utf-8', 'encode_genres__genre_tr__input': 'content', 'encode_genres__genre_tr__lowercase': True, 'encode_genres__genre_tr__max_df': 1.0, 'encode_genres__genre_tr__max_features': None, 'encode_genres__genre_tr__min_df': 1, 'encode_genres__genre_tr__ngram_range': (1, 1), 'encode_genres__genre_tr__preprocessor': None, 'encode_genres__genre_tr__stop_words': None, 'encode_genres__genre_tr__strip_accents': None, 'encode_genres__genre_tr__token_pattern': '(?u)\\\\b\\\\w\\\\w+\\\\b', 'encode_genres__genre_tr__tokenizer': None, 'encode_genres__genre_tr__vocabulary': None, 'xgb__objective': 'reg:squarederror', 'xgb__base_score': 0.5, 'xgb__booster': 'gbtree', 'xgb__callbacks': None, 'xgb__colsample_bylevel': 1, 'xgb__colsample_bynode': 1, 'xgb__colsample_bytree': 1, 'xgb__early_stopping_rounds': None, 'xgb__enable_categorical': False, 'xgb__eval_metric': None, 'xgb__gamma': 0, 'xgb__gpu_id': -1, 'xgb__grow_policy': 'depthwise', 'xgb__importance_type': None, 'xgb__interaction_constraints': '', 'xgb__learning_rate': 0.300000012, 'xgb__max_bin': 256, 'xgb__max_cat_to_onehot': 4, 'xgb__max_delta_step': 0, 'xgb__max_depth': 6, 'xgb__max_leaves': 0, 'xgb__min_child_weight': 1, 'xgb__missing': nan, 'xgb__monotone_constraints': '()', 'xgb__n_estimators': 100, 'xgb__n_jobs': 0, 'xgb__num_parallel_tree': 1, 'xgb__predictor': 'auto', 'xgb__random_state': 0, 'xgb__reg_alpha': 0, 'xgb__reg_lambda': 1, 'xgb__sampling_method': 'uniform', 'xgb__scale_pos_weight': 1, 'xgb__subsample': 1, 'xgb__tree_method': 'approx', 'xgb__validate_parameters': 1, 'xgb__verbosity': None}\n"
     ]
    }
   ],
   "source": [
    "train_transformed2, test_transformed2 = load_and_preprocess_movielens_df()\n",
    "\n",
    "model2 = train_xgboost_model(train_transformed2)\n",
    "X, y = test_transformed2[[\"userId\", \"movieId\", \"genres\"]], test_transformed2[\"rating\"]"
   ]
  },
  {
   "cell_type": "code",
   "execution_count": 5,
   "id": "758f5fc0-393e-4df7-ac5a-f77b4b911ffb",
   "metadata": {},
   "outputs": [
    {
     "data": {
      "text/html": [
       "<div>\n",
       "<style scoped>\n",
       "    .dataframe tbody tr th:only-of-type {\n",
       "        vertical-align: middle;\n",
       "    }\n",
       "\n",
       "    .dataframe tbody tr th {\n",
       "        vertical-align: top;\n",
       "    }\n",
       "\n",
       "    .dataframe thead th {\n",
       "        text-align: right;\n",
       "    }\n",
       "</style>\n",
       "<table border=\"1\" class=\"dataframe\">\n",
       "  <thead>\n",
       "    <tr style=\"text-align: right;\">\n",
       "      <th></th>\n",
       "      <th>userId</th>\n",
       "      <th>movieId</th>\n",
       "      <th>rating</th>\n",
       "      <th>genres</th>\n",
       "    </tr>\n",
       "  </thead>\n",
       "  <tbody>\n",
       "  </tbody>\n",
       "</table>\n",
       "</div>"
      ],
      "text/plain": [
       "Empty DataFrame\n",
       "Columns: [userId, movieId, rating, genres]\n",
       "Index: []"
      ]
     },
     "execution_count": 5,
     "metadata": {},
     "output_type": "execute_result"
    }
   ],
   "source": [
    "train_transformed2[train_transformed2.isna().any(axis=1)]"
   ]
  },
  {
   "cell_type": "code",
   "execution_count": 6,
   "id": "9ff29aec-0c77-4d31-ae3c-daae0d93f716",
   "metadata": {},
   "outputs": [
    {
     "name": "stdout",
     "output_type": "stream",
     "text": [
      "RMSE: 0.9878193578246395\n",
      "min1.0998142957687378, max=4.4167962074279785\n"
     ]
    }
   ],
   "source": [
    "from sklearn.metrics import mean_squared_error\n",
    "preds2 = model2.predict(X)\n",
    "print(f\"RMSE: {mean_squared_error(y, preds2, squared=False)}\")\n",
    "print(f\"min{min(preds2)}, max={max(preds2)}\")"
   ]
  },
  {
   "cell_type": "code",
   "execution_count": 7,
   "id": "33440192-9525-433e-8f68-733249fbfe2c",
   "metadata": {},
   "outputs": [],
   "source": [
    "test_eval = test_transformed2.copy()\n",
    "test_eval[\"preds\"] = preds2"
   ]
  },
  {
   "cell_type": "code",
   "execution_count": 8,
   "id": "dc89bfa3-66c6-4ecd-9f87-8b1926f6c47d",
   "metadata": {},
   "outputs": [
    {
     "data": {
      "text/plain": [
       "[<matplotlib.lines.Line2D at 0x7f2e5031b3a0>]"
      ]
     },
     "execution_count": 8,
     "metadata": {},
     "output_type": "execute_result"
    },
    {
     "data": {
      "image/png": "[encoded data removed]",
      "text/plain": [
       "<Figure size 640x480 with 1 Axes>"
      ]
     },
     "metadata": {},
     "output_type": "display_data"
    }
   ],
   "source": [
    "from matplotlib import pyplot as plt\n",
    "plt.figure()\n",
    "plt.clf()\n",
    "plt.plot(test_eval[\"preds\"], marker=\",\", linestyle=\"None\")"
   ]
  },
  {
   "cell_type": "code",
   "execution_count": 9,
   "id": "722c179b-ebfb-4567-aff1-83802ae7ebe7",
   "metadata": {},
   "outputs": [
    {
     "data": {
      "text/html": [
       "<div>\n",
       "<style scoped>\n",
       "    .dataframe tbody tr th:only-of-type {\n",
       "        vertical-align: middle;\n",
       "    }\n",
       "\n",
       "    .dataframe tbody tr th {\n",
       "        vertical-align: top;\n",
       "    }\n",
       "\n",
       "    .dataframe thead th {\n",
       "        text-align: right;\n",
       "    }\n",
       "</style>\n",
       "<table border=\"1\" class=\"dataframe\">\n",
       "  <thead>\n",
       "    <tr style=\"text-align: right;\">\n",
       "      <th></th>\n",
       "      <th>userId</th>\n",
       "      <th>movieId</th>\n",
       "      <th>rating</th>\n",
       "      <th>preds</th>\n",
       "    </tr>\n",
       "  </thead>\n",
       "  <tbody>\n",
       "    <tr>\n",
       "      <th>0</th>\n",
       "      <td>121557</td>\n",
       "      <td>4027</td>\n",
       "      <td>3.0</td>\n",
       "      <td>3.804887</td>\n",
       "    </tr>\n",
       "    <tr>\n",
       "      <th>774</th>\n",
       "      <td>121562</td>\n",
       "      <td>4027</td>\n",
       "      <td>4.0</td>\n",
       "      <td>3.804887</td>\n",
       "    </tr>\n",
       "    <tr>\n",
       "      <th>2741</th>\n",
       "      <td>121579</td>\n",
       "      <td>4027</td>\n",
       "      <td>5.0</td>\n",
       "      <td>3.804887</td>\n",
       "    </tr>\n",
       "    <tr>\n",
       "      <th>3699</th>\n",
       "      <td>121588</td>\n",
       "      <td>4027</td>\n",
       "      <td>3.0</td>\n",
       "      <td>3.804887</td>\n",
       "    </tr>\n",
       "    <tr>\n",
       "      <th>4132</th>\n",
       "      <td>121589</td>\n",
       "      <td>4027</td>\n",
       "      <td>4.5</td>\n",
       "      <td>3.804887</td>\n",
       "    </tr>\n",
       "    <tr>\n",
       "      <th>...</th>\n",
       "      <td>...</td>\n",
       "      <td>...</td>\n",
       "      <td>...</td>\n",
       "      <td>...</td>\n",
       "    </tr>\n",
       "    <tr>\n",
       "      <th>6240807</th>\n",
       "      <td>162508</td>\n",
       "      <td>91065</td>\n",
       "      <td>1.5</td>\n",
       "      <td>3.624109</td>\n",
       "    </tr>\n",
       "    <tr>\n",
       "      <th>6240817</th>\n",
       "      <td>162508</td>\n",
       "      <td>101072</td>\n",
       "      <td>2.0</td>\n",
       "      <td>3.226395</td>\n",
       "    </tr>\n",
       "    <tr>\n",
       "      <th>6249273</th>\n",
       "      <td>162534</td>\n",
       "      <td>174923</td>\n",
       "      <td>3.0</td>\n",
       "      <td>3.518687</td>\n",
       "    </tr>\n",
       "    <tr>\n",
       "      <th>6249290</th>\n",
       "      <td>162534</td>\n",
       "      <td>184107</td>\n",
       "      <td>3.0</td>\n",
       "      <td>3.504322</td>\n",
       "    </tr>\n",
       "    <tr>\n",
       "      <th>6249298</th>\n",
       "      <td>162534</td>\n",
       "      <td>189169</td>\n",
       "      <td>2.5</td>\n",
       "      <td>3.221210</td>\n",
       "    </tr>\n",
       "  </tbody>\n",
       "</table>\n",
       "<p>6250023 rows × 4 columns</p>\n",
       "</div>"
      ],
      "text/plain": [
       "         userId  movieId  rating     preds\n",
       "0        121557     4027     3.0  3.804887\n",
       "774      121562     4027     4.0  3.804887\n",
       "2741     121579     4027     5.0  3.804887\n",
       "3699     121588     4027     3.0  3.804887\n",
       "4132     121589     4027     4.5  3.804887\n",
       "...         ...      ...     ...       ...\n",
       "6240807  162508    91065     1.5  3.624109\n",
       "6240817  162508   101072     2.0  3.226395\n",
       "6249273  162534   174923     3.0  3.518687\n",
       "6249290  162534   184107     3.0  3.504322\n",
       "6249298  162534   189169     2.5  3.221210\n",
       "\n",
       "[6250023 rows x 4 columns]"
      ]
     },
     "execution_count": 9,
     "metadata": {},
     "output_type": "execute_result"
    }
   ],
   "source": [
    "preds_df = test_eval.drop(\"genres\", axis=1)\n",
    "preds_df"
   ]
  },
  {
   "cell_type": "code",
   "execution_count": 10,
   "id": "97ad2dc6-e4f3-471f-b9ea-ad10a961f08e",
   "metadata": {},
   "outputs": [],
   "source": [
    "preds_df.to_csv(\"xgbr_preds.csv\")"
   ]
  }
 ],
 "metadata": {
  "kernelspec": {
   "display_name": "Python 3 (ipykernel)",
   "language": "python",
   "name": "python3"
  },
  "language_info": {
   "codemirror_mode": {
    "name": "ipython",
    "version": 3
   },
   "file_extension": ".py",
   "mimetype": "text/x-python",
   "name": "python",
   "nbconvert_exporter": "python",
   "pygments_lexer": "ipython3",
   "version": "3.8.10"
  }
 },
 "nbformat": 4,
 "nbformat_minor": 5
}
